{
 "cells": [
  {
   "cell_type": "markdown",
   "metadata": {},
   "source": [
    "# Familiarizando-se com o ambiente do Jupyter"
   ]
  },
  {
   "cell_type": "markdown",
   "metadata": {},
   "source": [
    "##### Sessões\n",
    "- [Como usar um Notebook?](#Como-usar-um-Notebook?)\n",
    "- [Perguntas frequentes sobre problemas comuns do Jupyter](#Perguntas-frequentes-sobre-problemas-comuns-do-Jupyter)"
   ]
  },
  {
   "cell_type": "markdown",
   "metadata": {},
   "source": [
    "## Objetivos de aprendizado\n",
    "\n",
    "* Familiarização sobre o funcionamento do Jupyter Notebooks para treinamento ao longo do curso"
   ]
  },
  {
   "cell_type": "markdown",
   "metadata": {},
   "source": [
    "***\n",
    "## Como usar um Notebook?\n",
    "\n",
    "Os Jupyter Notebooks são uma ótima ferramenta de aprendizado e são muito fáceis quando você se acostuma. Aqui estão os princípios básicos. Procure online ou peça mais ajuda ao seu instrutor ou ao canal de chat (se implementado para a sua classe), se necessário. Você também usará mais recursos do ambiente do Jupyter conforme o laboratório progride. Cada novo recurso será introduzido no notebook antes de você ser solicitado a usá-lo.\n",
    "\n",
    "Quando você vir uma seção de código, ela aparecerá em uma caixa cinza claro, como a imagem mostra abaixo.\n",
    "\n",
    "<img src=\"Assets/gray_code_box.png\">\n",
    "\n",
    "Ao clicar uma vez dentro da caixa, uma barra azul aparecerá ao lado dela, indicando que é a seção ativa do Notebook, conforme mostrado abaixo:\n",
    "\n",
    "<img src=\"Assets/active_code_box.png\">\n",
    "\n",
    "Quando uma seção está ativa, você pode executá-la. Para executá-la, você clica dentro dele, certifique-se de que a barra azul esteja aparecendo ao lado dele e, em seguida, clique no ▶ no topo do notebook para executar esse código. A captura de tela abaixo tem uma caixa desenhada ao redor do ▶ para que você saiba onde encontrá-la.\n",
    "\n",
    "<img src=\"Assets/play_button.png\">\n",
    "\n",
    "Este material foi configurado para compilar e executar código em duas etapas:\n",
    "* Na primeira seção do código, você verá um programa com %%writefile {um nome de arquivo} na primeira linha. Nesta primeira etapa, escrevemos o código que você vê (e às vezes edita) em um arquivo.\n",
    "* Na próxima seção do código, você verá comandos destinados a serem executados no host DevCloud. Eles começam com um ! e são comandos do Linux. Esses comandos compilam o código que você escreveu.\n",
    "\n",
    "__Agora vamos praticar!__\n",
    "A caixa de código abaixo escreve um programa simples de exemplo hello world. Clique nele agora para torná-lo ativo (você verá uma barra azul ao lado dele) e clique em ▶ para fazê-lo funcionar. Você verá uma caixa de diálogo indicando que o arquivo foi gravado após executá-lo."
   ]
  },
  {
   "cell_type": "code",
   "execution_count": null,
   "metadata": {},
   "outputs": [],
   "source": [
    "%%writefile lab/hello_world_example.cpp\n",
    "#include <CL/sycl.hpp>\n",
    "int main() {\n",
    "    std::cout << \"Olá mundo!!!\\n\" << std::endl;\n",
    "}"
   ]
  },
  {
   "cell_type": "markdown",
   "metadata": {},
   "source": [
    "_Se as células do Jupyter não responderem ou se apresentarem um erro ao compilar os exemplos de código, reinicie o kernel do Jupyter:\n",
    "`Kernel->Restart Kernel and Clear All Outputs` e compile os exemplos de código novamente_"
   ]
  },
  {
   "cell_type": "markdown",
   "metadata": {},
   "source": [
    "__Você viu a caixa de diálogo \"Writing lab/hello_world_example.cpp\" aparecer?__ Agora, vamos compilar e executar o programa simples hello world que você acabou de escrever em um arquivo. Clique na caixa de código abaixo e clique em ▶. Lembre-se de que os comandos de código que começam com ! estão chamando o host DevCloud (um host Linux) para executar algo. Aqui, estamos dizendo a ele para compilar o código usando o compilador dpcpp e, em seguida, executar o arquivo executável resultante."
   ]
  },
  {
   "cell_type": "code",
   "execution_count": null,
   "metadata": {},
   "outputs": [],
   "source": [
    "! dpcpp lab/hello_world_example.cpp -o bin/hello_world\n",
    "! bin/hello_world"
   ]
  },
  {
   "cell_type": "markdown",
   "metadata": {},
   "source": [
    "__Você vê a mensagem \"Hello world!\" na saída?__ Ótimo! Agora, experimente adicionar erros de sintaxe, se desejar. Não se esqueça de clicar em ▶ na caixa de código para escrever o arquivo e em ▶ para compilá-lo e executá-lo. Você verá o compilador reclamar!\n",
    "\n",
    "Se o código estiver demorando para ser executado, você verá um asterisco entre os colchetes ao lado da caixa de código cinza, como mostrado abaixo.\n",
    "\n",
    "<img src=\"Assets/asterisk_running_code.png\">\n",
    "\n",
    "__Quando o asterisco se transforma em um número, a execução do código terminou.__\n",
    "\n",
    "A menos que você seja informado, assuma que todo o código não deve demorar mais do que um minuto para ser executado. Se você estiver vendo tempos mais longos, siga as etapas nas Perguntas Frequentes abaixo para a pergunta __E se meu código estiver demorando muito para ser executado?__\n",
    "\n",
    "__Agora você está pronto para começar a trabalhar no laboratório! Lembre-se de que mais recursos do Jupyter serão apresentados conforme necessário durante os laboratórios. Eles sempre serão explicados antes do uso.__"
   ]
  },
  {
   "cell_type": "markdown",
   "metadata": {},
   "source": [
    "***\n",
    "## Perguntas frequentes sobre problemas comuns do Jupyter\n",
    "\n",
    "__E se eu tiver sobrescrito o código em meu Notebook e quiser começar do zero?__\n",
    "\n",
    "Os blocos de anotações Jupyter originais para cada laboratório foram colocados no diretório labs/solutions.\n",
    "\n",
    "__E se eu não tiver vontade de codificar hoje e apenas quiser colar a solução?__\n",
    "\n",
    "O código concluído para cada laboratório está disponível no diretório labs/solutions. Você pode abrir o arquivo e copiá-lo e colá-lo na seção de código. Lembre-se de manter a linha que começa com %%writefile na parte superior da seção de código ao colar o código.\n",
    "\n",
    "__E se meu código estiver demorando muito para ser executado?__ ou __E se eu receber um pop-up informando que meu servidor não está funcionando?__\n",
    "\n",
    "Se as células do Jupyter não responderem ou se apresentarem um erro ao compilar os exemplos de código, reinicie o kernel do Jupyter. Selecione o seguinte item de menu na janela Jupyter: `Kernel > Restart Kernel and Clear All Outputs` e compile os exemplos de código novamente.\n",
    "\n",
    "__E se uma parte do Notebook que deveria ser de texto parecer estranho como a imagem abaixo?__\n",
    "\n",
    "<img src=\"Assets/messed_up_text_section.png\">\n",
    "\n",
    "Se uma seção de texto se parecer com esta, simplesmente clique nela e torne-a a seção ativa (ela terá uma barra vertical azul ao lado) e clique em ▶ (como se você estivesse executando uma seção de código). Em seguida, ele voltará a se parecer com uma seção de texto normal.\n",
    "\n",
    "__E se eu receber um pop-up informando que meu servidor não está funcionando, como o mostrado abaixo?__\n",
    "\n",
    "<img src=\"Assets/server_not_running.png\">\n",
    "\n",
    "Se você receber este pop-up, selecione `Restart`. Esteja ciente de que pode ser necessário reabrir o Jupyter Notebook e executar algumas etapas. (Ou você pode voltar para a guia do navegador que estava usando quando obteve este pop-up e continuar.)"
   ]
  },
  {
   "cell_type": "code",
   "execution_count": null,
   "metadata": {},
   "outputs": [],
   "source": []
  }
 ],
 "metadata": {
  "kernelspec": {
   "display_name": "Python 3.7 (Intel® oneAPI)",
   "language": "python",
   "name": "c009-intel_distribution_of_python_3_oneapi-beta05-python"
  },
  "language_info": {
   "codemirror_mode": {
    "name": "ipython",
    "version": 3
   },
   "file_extension": ".py",
   "mimetype": "text/x-python",
   "name": "python",
   "nbconvert_exporter": "python",
   "pygments_lexer": "ipython3",
   "version": "3.7.7"
  },
  "toc": {
   "base_numbering": 1,
   "nav_menu": {},
   "number_sections": true,
   "sideBar": true,
   "skip_h1_title": false,
   "title_cell": "Table of Contents",
   "title_sidebar": "Contents",
   "toc_cell": false,
   "toc_position": {
    "height": "525.6px",
    "left": "28px",
    "top": "137.8px",
    "width": "301.109px"
   },
   "toc_section_display": true,
   "toc_window_display": true
  }
 },
 "nbformat": 4,
 "nbformat_minor": 4
}
