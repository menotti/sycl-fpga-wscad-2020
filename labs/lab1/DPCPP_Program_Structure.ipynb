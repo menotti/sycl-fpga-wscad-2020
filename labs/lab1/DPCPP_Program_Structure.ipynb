{
 "cells": [
  {
   "cell_type": "markdown",
   "metadata": {},
   "source": [
    "# Visão geral do SYCL"
   ]
  },
  {
   "cell_type": "markdown",
   "metadata": {},
   "source": [
    "##### Seções\n",
    "- [O que é Data Parallel C++?](#O-que-é-Data-Parallel-C++?)\n",
    "- _Código:_ [Seletor de dispositivo](#Seletor-de-dispositivo)\n",
    "- [Kernels paralelos](#Kernels-paralelos)\n",
    "- [Anatomia do código SYCL](#Anatomia-do-código-SYCL)\n",
    "- _Código:_ [Dependência implícita com acessores (accessors)](#Dependência-implícita-com-acessores-(accessors))\n",
    "- _Código:_ [Sincronização: Host Accessor](#Sincronização:-Host-Accessor)\n",
    "- _Código:_ [Sincronização: Destruição do _buffer_](#Sincronização:-Destruição-do-buffer)\n",
    "- _Código:_ [Seletor de dispositivo personalizado](#Seletor-de-dispositivo-personalizado)\n",
    "- _Código:_ [Multiplicação de números complexos](#Exercício:-multiplicação-de-números-complexos)"
   ]
  },
  {
   "cell_type": "markdown",
   "metadata": {},
   "source": [
    "## Objetivos de aprendizado\n",
    "* Explicar as classes fundamentais do __SYCL__\n",
    "* Usar __device selection__ para descarregar cargas de trabalho do kernel\n",
    "* Decidir quando usar __basic parallel kernels__ e __ND Range Kernels__\n",
    "* Criar um __host Accessor__\n",
    "* Criar uma aplicação __SYCL__ por meio de exercícios práticos de laboratório"
   ]
  },
  {
   "cell_type": "markdown",
   "metadata": {},
   "source": [
    "***\n",
    "## O que é Data Parallel C++?\n",
    "Os programas __oneAPI__ são escritos em __Data Parallel C++ (DPC++)__. Ele é baseado em benefícios de produtividade do C++ moderno e construções familiares e incorpora o padrão __SYCL__ para paralelismo de dados e programação heterogênea. DPC++ é uma __single source__ onde __host code__ e __heterogeneous accelerator kernels__ podem ser misturados nos mesmos arquivos fonte. Um programa DPC++ é chamado no computador _host_ e transfere a computação para um acelerador. Os programadores usam C++ familiar e construções de biblioteca com funcionalidades adicionais, como __queue__ para direcionamento de trabalho, __buffer__ para gerenciamento de dados e __parallel_for__ para paralelismo para direcionar quais partes da computação e dados devem ser descarregados."
   ]
  },
  {
   "cell_type": "markdown",
   "metadata": {},
   "source": [
    "## Dispositivo\n",
    "A classe __device__ representa os recursos dos aceleradores em um sistema que utiliza Intel&reg; oneAPI Toolkits. A classe de dispositivo contém funções de membro para consultar informações sobre o dispositivo, o que é útil para programas SYCL onde vários dispositivos são criados.\n",
    "* A função __get_info__ fornece informações sobre o dispositivo:\n",
    "  * Nome, fornecedor e versão do dispositivo\n",
    "  * Os IDs de item de trabalho local e global\n",
    "  * Largura para tipos integrados, frequência de clock, largura e tamanhos de cache, online ou offline\n",
    " \n",
    "```cpp\n",
    "queue q;\n",
    "device my_device = q.get_device();\n",
    "std::cout << \"Device: \" << my_device.get_info<info::device::name>() << std::endl;\n",
    "```"
   ]
  },
  {
   "cell_type": "markdown",
   "metadata": {},
   "source": [
    "***\n",
    "## Seletor de dispositivo\n",
    "A classe __device_selector__ permite a seleção em tempo de execução de um dispositivo específico para executar _kernels_ com base em heurísticas fornecidas pelo usuário. O exemplo de código a seguir mostra o uso dos seletores de dispositivo padrão (__default_selector, cpu_selector, gpu_selector…__) e um device_selector derivado\n",
    "\n",
    " \n",
    "```cpp\n",
    "default_selector selector;\n",
    "// host_selector selector;\n",
    "// cpu_selector selector;\n",
    "// gpu_selector selector;\n",
    "queue q(selector);\n",
    "std::cout << \"Device: \" << q.get_device().get_info<info::device::name>() << std::endl;\n",
    "```\n",
    "\n",
    "O código SYCL abaixo mostra diferentes seletores de dispositivo: Inspecione o código, não há modificações necessárias:\n",
    "1. Inspecione a célula de código abaixo e clique em executar ▶ para salvar o código no arquivo\n",
    "2. Em seguida, execute ▶ a célula na seção __Build and Run__ abaixo do código para compilar e executar o código."
   ]
  },
  {
   "cell_type": "code",
   "execution_count": null,
   "metadata": {},
   "outputs": [],
   "source": [
    "%%writefile lab/gpu_sample.cpp\n",
    "//==============================================================\n",
    "// Copyright © 2020 Intel Corporation\n",
    "//\n",
    "// SPDX-License-Identifier: MIT\n",
    "// =============================================================\n",
    "#include <CL/sycl.hpp>\n",
    "\n",
    "using namespace cl::sycl;\n",
    "\n",
    "int main() {\n",
    "  //# Create a device queue with device selector\n",
    "  \n",
    "  gpu_selector selector;\n",
    "  //cpu_selector selector;\n",
    "  //default_selector selector;\n",
    "  //host_selector selector;\n",
    "  \n",
    "  queue q(selector);\n",
    "\n",
    "  //# Print the device name\n",
    "  std::cout << \"Device: \" << q.get_device().get_info<info::device::name>() << std::endl;\n",
    "\n",
    "  return 0;\n",
    "}"
   ]
  },
  {
   "cell_type": "markdown",
   "metadata": {},
   "source": [
    "### Compilar e Executar\n",
    "Selecione a célula abaixo e clique em executar ▶ para compilar e executar o código:\n",
    "\n",
    "(Como você está executando em uma GPU, os scripts são necessários para executar em um nó com esse hardware.)"
   ]
  },
  {
   "cell_type": "code",
   "execution_count": null,
   "metadata": {},
   "outputs": [],
   "source": [
    "! chmod 755 q; chmod 755 run_gpu.sh;if [ -x \"$(command -v qsub)\" ]; then ./q run_gpu.sh; else ./run_gpu.sh; fi"
   ]
  },
  {
   "cell_type": "markdown",
   "metadata": {},
   "source": [
    "Se as células do Jupyter não responderem ou se apresentarem um erro ao compilar os exemplos de código, reinicie o kernel do Jupyter. Selecione o seguinte item de menu na janela Jupyter: `Kernel > Restart Kernel and Clear All Outputs` e compile os exemplos de código novamente."
   ]
  },
  {
   "cell_type": "markdown",
   "metadata": {},
   "source": [
    "## Fila (Queue)\n",
    "__Queue__ submete grupos de comandos a serem executados pelo _runtime_ SYCL. A fila é um mecanismo em que __trabalho é submetido__ a um dispositivo. Uma fila mapeia para um dispositivo e várias filas podem ser mapeadas para o mesmo dispositivo.\n",
    " \n",
    "```cpp\n",
    "q.submit([&](handler& h) {\n",
    "    //COMMAND GROUP CODE\n",
    "});\n",
    "```"
   ]
  },
  {
   "cell_type": "markdown",
   "metadata": {},
   "source": [
    "## Kernel\n",
    "A classe __kernel__ encapsula métodos e dados para a execução de código no dispositivo quando um grupo de comando é instanciado. O objeto do kernel não é explicitamente construído pelo usuário e é construído quando uma função de envio do kernel, como __parallel_for__, é chamada\n",
    "```cpp\n",
    "q.submit([&](handler& h) {\n",
    "  h.parallel_for(range<1>(N), [=](id<1> i) {\n",
    "    A[i] = B[i] + C[i]);\n",
    "  });\n",
    "});\n",
    "```"
   ]
  },
  {
   "cell_type": "markdown",
   "metadata": {},
   "source": [
    "## Escolhendo onde os kernels do dispositivo rodam\n",
    "\n",
    "O trabalho é submetido a filas e cada fila é associada a exatamente um dispositivo (por exemplo, uma GPU ou FPGA específico). Você pode decidir a qual dispositivo uma fila está associada (se desejar) e ter quantas filas desejar para despachar o trabalho em sistemas heterogêneos.\n",
    "\n",
    "| Dispositivo de destino | Fila |\n",
    "| ----- | ------- |\n",
    "| Crie uma fila destinada a qualquer dispositivo: | queue() |\n",
    "| Crie uma fila destinada a classes pré-configuradas de dispositivos: | queue(cpu_selector{}); queue(gpu_selector{});  queue(intel::fpga_selector{}); queue(accelerator_selector{}); queue(host_selector{});|\n",
    "| Crie um dispositivo específico de destino de fila (critérios personalizados): | class custom_selector : public device_selector {int operator()(…  // Any logic you want! … queue(custom_selector{}); |\n",
    "\n",
    "<center><img src=\"Assets/queue.png\"></center>"
   ]
  },
  {
   "cell_type": "markdown",
   "metadata": {},
   "source": [
    "## Linguagem DPC++ e _runtime_\n",
    "A linguagem e o _runtime_ DPC++ consistem em um conjunto de classes, modelos e bibliotecas C++.\n",
    "\n",
    "__Escopo de aplicação__ e __escopo de grupo de comandos__:\n",
    "  * Código que executa no host\n",
    "  * Os recursos completos do C++ estão disponíveis no escopo da aplicação e do grupo de comandos\n",
    "\n",
    "__Escopo do Kernel__:\n",
    "  * Código que executa no dispositivo\n",
    "  * No __Escopo do Kernel__, existem __limitações__ no C++ aceito"
   ]
  },
  {
   "cell_type": "markdown",
   "metadata": {},
   "source": [
    "***\n",
    "## Kernels paralelos\n",
    "\n",
    "__Kernels paralelos__ permitem que várias instâncias de uma operação sejam executadas em paralelo. Isso é útil para __descarregar (offload)__ a execução paralela de um __for-loop__ básico no qual cada iteração é completamente independente e em qualquer ordem. Kernels paralelos são expressos usando a função __parallel_for__\n",
    "Um simples loop 'for' em um aplicativo C++ é escrito como abaixo\n",
    "\n",
    "```cpp\n",
    "for(int i=0; i < 1024; i++){\n",
    "    a[i] = b[i] + c[i];\n",
    "});\n",
    "```\n",
    "\n",
    "Abaixo está como você pode descarregar para o acelerador\n",
    "\n",
    "```cpp\n",
    "h.parallel_for(range<1>(1024), [=](id<1> i){\n",
    "    A[i] =  B[i] + C[i];\n",
    "});\n",
    "```"
   ]
  },
  {
   "cell_type": "markdown",
   "metadata": {},
   "source": [
    "## Kernels Paralelos Básicos\n",
    "\n",
    "A funcionalidade dos Kernels Paralelos Básicos é exposta por meio das classes __range__, __id__ e __item__. A classe __range__ é usada para descrever o __espaço de iteração__ da execução paralela e a classe __id__ é usada para __índice__ uma instância individual de um kernel em uma execução paralela\n",
    "\n",
    "\n",
    "```cpp\n",
    "h.parallel_for(range<1>(1024), [=](id<1> i){\n",
    "    // CODE THAT RUNS ON DEVICE \n",
    "    \n",
    "});\n",
    "\n",
    "```\n",
    "\n",
    "O exemplo acima é suficiente se tudo o que você precisa é o __índice(id)__, mas se você precisa do __intervalo (range)__ em seu código de kernel, então você pode usar a classe __item__ em vez da classe __id__, que você pode usar para consultar o __range__ como mostrado abaixo. A classe __item__ representa uma __instância individual__ de uma função do kernel, expõe funções adicionais para propriedades de consulta do intervalo de execução\n",
    "\n",
    "\n",
    "```cpp\n",
    "h.parallel_for(range<1>(1024), [=](item<1> item){\n",
    "    auto i = item.get_id();\n",
    "    auto R = item.get_range();\n",
    "    // CODE THAT RUNS ON DEVICE\n",
    "    \n",
    "});\n",
    "```"
   ]
  },
  {
   "cell_type": "markdown",
   "metadata": {},
   "source": [
    "## Kernels NDRange\n",
    "Os Kernels Paralelos Básicos são uma maneira fácil de paralelizar um loop `for`, mas não permitem a otimização do desempenho no nível do hardware. O __Kernel NDRange__ é outra maneira de expressar paralelismo que permite ajuste de desempenho de baixo nível, fornecendo acesso à __memória local e mapeamento de execuções__ para unidades de computação no hardware. Todo o espaço de iteração é dividido em grupos menores chamados __work-groups__, __work-items__ dentro de um __work-groups__ são agendados em uma única unidade de computação no hardware.\n",
    "\n",
    "O agrupamento de execuções do _kernel_ em __work-groups__ permite o controle do uso de recursos e de balanceamento de carga na distribuição de trabalho. A funcionalidade dos kernels __NDRange__ é exposta por meio das classes __nd_range__ e __nd_item__. A classe __nd_range__ representa um intervalo de execução agrupado (__grouped execution range__) usando o intervalo de execução global e o intervalo de execução local de cada grupo de trabalho. A classe __nd_item__ representa uma __instância individual__ de uma função do _kernel_ e permite consultar o intervalo e o índice do grupo de trabalho.\n",
    "\n",
    "```cpp\n",
    "h.parallel_for(nd_range<1>(range<1>(1024),range<1>(64)), [=](nd_item<1> item){\n",
    "    auto idx = item.get_global_id();\n",
    "    auto local_id = item.get_local_id();\n",
    "    // CODE THAT RUNS ON DEVICE\n",
    "});\n",
    "```\n",
    "<center><img src=\"Assets/ndrange.png\"></center>"
   ]
  },
  {
   "cell_type": "markdown",
   "metadata": {},
   "source": [
    "***\n",
    "## Modelo de Buffer \n",
    "__Buffers__ encapsulam dados em uma aplicação SYCL em ambos dispositivo e host. __Accessors__ é o mecanismo para acessar os dados do _buffer_."
   ]
  },
  {
   "cell_type": "markdown",
   "metadata": {},
   "source": [
    "### Anatomia do código SYCL\n",
    "Os programas que utilizam SYCL requerem a inclusão do cabeçalho __cl/sycl.hpp__. Recomenda-se empregar a instrução de namespace para evitar a digitação de referências repetidas do namespace `cl::sycl`.\n",
    "\n",
    "```cpp\n",
    "#include <CL/sycl.hpp>\n",
    "using namespace cl::sycl;\n",
    "```\n",
    "\n",
    "__Programas SYCL__ são C++ padrão. O programa é invocado no computador __host__ e transfere a computação para o __accelerador__. Um programador usa __queue, buffer, dispositivo e abstrações de kernel__ do SYCL para direcionar quais partes da computação e dados devem ser descarregados.\n",
    "\n",
    "Como primeiro passo em um programa SYCL, criamos uma __queue__. Descarregamos a computação para um __device__ enviando tarefas para uma fila. O programador pode escolher CPU, GPU, FPGA e outros dispositivos por meio do __selector__. Este programa usa o padrão aqui, o que significa que o _runtime_ SYCL seleciona o dispositivo mais capaz disponível em tempo de execução usando o seletor padrão. Falaremos sobre os dispositivos, seletores de dispositivo e os conceitos de buffers, acessores e kernels nos próximos módulos, mas abaixo está um programa SYCL simples para você começar com os conceitos acima.\n",
    "\n",
    "O dispositivo e o host podem compartilhar __memória física__ ou ter memórias distintas. Quando as memórias são distintas, o descarregamento de computação requer __copia de dados entre o host e o dispositivo__. SYCL não requer que o programador gerencie as cópias dos dados. Ao criar __Buffers e Accessors__, o SYCL garante que os dados estejam disponíveis para o host e o dispositivo sem nenhum esforço do programador. O SYCL também permite ao programador controle explícito sobre a movimentação de dados quando é necessário obter o melhor desempenho.\n",
    "\n",
    "Em um programa SYCL, definimos um __kernel__, que é aplicado a cada ponto em um espaço de índice. Para programas simples como este, o espaço de índice mapeia diretamente para os elementos do arranjo. O _kernel_ é encapsulado em uma __função lambda C++__. A função _lambda_ recebe um ponto no espaço de índice como uma matriz de coordenadas. Para este programa simples, a coordenada do espaço de índice é a mesma que o índice da matriz. O __parallel_for__ no programa abaixo aplica o _lambda_ ao espaço do índice. O espaço de índice é definido no primeiro argumento de `parallel_for` como um __intervalo unidimensional de 0 a N-1__.\n",
    "\n",
    "\n",
    "O código abaixo mostra a adição de vetor simples usando SYCL. Leia os comentários abordados na etapa 1 à etapa 6.\n",
    "\n",
    "```cpp\n",
    "void dpcpp_code(int* a, int* b, int* c, int N) {\n",
    "  //Etapa 1: criar uma fila de dispositivos\n",
    "  //(o desenvolvedor pode especificar um tipo de dispositivo por meio do seletor de dispositivo ou usar o seletor padrão)\n",
    "  queue q;\n",
    "  //Etapa 2: criar buffers (representa tanto a memória do host quanto a do dispositivo)\n",
    "  buffer<int,1> buf_a(a, range<1>(N));\n",
    "  buffer<int,1> buf_b(b, range<1>(N));\n",
    "  buffer<int,1> buf_c(c, range<1>(N));\n",
    "  //Etapa 3: enviar um comando para execução (assíncrona)\n",
    "  q.submit([&](handler &h){\n",
    "  //Etapa 4: crie acessores (acessors) de buffer para acessar os dados do buffer no dispositivo\n",
    "  auto A = buf_a.get_access<access::mode::read>(h);\n",
    "  auto B = buf_b.get_access<access::mode::read>(h);\n",
    "  auto C = buf_c.get_access<access::mode::write>(h);\n",
    "  //Etapa 5: enviar um kernel (lambda) para execução\n",
    "  h.parallel_for(range<1>(N), [=](item<1> i){\n",
    "    //Etapa 6: escrever um kernel\n",
    "    //As invocações do kernel são executadas em paralelo\n",
    "    //I kernel é invocado para cada elemento do intervalo\n",
    "    //A invocação do kernel tem acesso ao id de invocação\n",
    "    C[i] = A[i] + B[i];\n",
    "    });\n",
    "  });\n",
    "}\n",
    "```"
   ]
  },
  {
   "cell_type": "markdown",
   "metadata": {},
   "source": [
    "## Dependência implícita com acessores (_accessors_)\n",
    "* Acessores criam __dependências de dados__ no gráfico SYCL que ordenam as execuções do _kernel_ \n",
    "* Se dois _kernels_ usam o mesmo _buffer_, o segundo _kernel_ precisa aguardar a conclusão do primeiro _kernel_ para evitar condições de corrida.\n",
    "\n",
    "<center><img src=\"Assets/buffer1.png\"></center>\n",
    "\n",
    "O código SYCL abaixo demonstra dependência implícita com acessores: Inspecione o código, não há modificações necessárias:\n",
    "\n",
    "1. Inspecione a célula de código abaixo e clique em executar ▶ para salvar o código no arquivo\n",
    "\n",
    "2. Em seguida, execute ▶ a célula na seção __Build and Run__ abaixo do código para compilar e executar o código."
   ]
  },
  {
   "cell_type": "code",
   "execution_count": null,
   "metadata": {},
   "outputs": [],
   "source": [
    "%%writefile lab/buffer_sample.cpp\n",
    "//==============================================================\n",
    "// Copyright © 2020 Intel Corporation\n",
    "//\n",
    "// SPDX-License-Identifier: MIT\n",
    "// =============================================================\n",
    "#include <CL/sycl.hpp>\n",
    "\n",
    "constexpr int num=16;\n",
    "using namespace sycl;\n",
    "\n",
    "int main() {\n",
    "  auto R = range<1>{ num };\n",
    "  //Create Buffers A and B\n",
    "  buffer<int> A{ R }, B{ R };\n",
    "  //Create a device queue\n",
    "  queue Q;\n",
    "  //Submit Kernel 1\n",
    "  Q.submit([&](handler& h) {\n",
    "    //Accessor for buffer A\n",
    "    auto out = A.get_access<access::mode::write>(h);\n",
    "    h.parallel_for(R, [=](id<1> idx) {\n",
    "      out[idx] = idx[0]; }); });\n",
    "  //Submit Kernel 2\n",
    "  Q.submit([&](handler& h) {\n",
    "    //This task will wait till the first queue is complete\n",
    "    auto out = A.get_access<access::mode::write>(h);\n",
    "    h.parallel_for(R, [=](id<1> idx) {\n",
    "      out[idx] += idx[0]; }); });\n",
    "  //Submit Kernel 3\n",
    "  Q.submit([&](handler& h) { \n",
    "    //Accessor for Buffer B\n",
    "    auto out = B.get_access<access::mode::write>(h);\n",
    "    h.parallel_for(R, [=](id<1> idx) {\n",
    "      out[idx] = idx[0]; }); });\n",
    "  //Submit task 4\n",
    "  Q.submit([&](handler& h) {\n",
    "   //This task will wait till kernel 2 and 3 are complete\n",
    "   auto in = A.get_access<access::mode::read>(h);\n",
    "   auto inout =\n",
    "    B.get_access<access::mode::read_write>(h);\n",
    "  h.parallel_for(R, [=](id<1> idx) {\n",
    "    inout[idx] *= in[idx]; }); }); \n",
    "      \n",
    " // And the following is back to device code\n",
    " auto result =\n",
    "    B.get_access<access::mode::read>();\n",
    "  for (int i=0; i<num; i++)\n",
    "    std::cout << \"result[\" << i << \"]=\" << result[i] << \"\\n\";      \n",
    "  return 0;\n",
    "}"
   ]
  },
  {
   "cell_type": "markdown",
   "metadata": {},
   "source": [
    "### Compilar e Executar\n",
    "Selecione a célula abaixo e clique em executar ▶ para compilar e executar o código:"
   ]
  },
  {
   "cell_type": "code",
   "execution_count": null,
   "metadata": {},
   "outputs": [],
   "source": [
    "! dpcpp lab/buffer_sample.cpp -o bin/buffer_sample\n",
    "! bin/buffer_sample"
   ]
  },
  {
   "cell_type": "markdown",
   "metadata": {},
   "source": [
    "Se as células do Jupyter não responderem ou se apresentarem um erro ao compilar os exemplos de código, reinicie o kernel do Jupyter. Selecione o seguinte item de menu na janela Jupyter: `Kernel > Restart Kernel and Clear All Outputs` e compile os exemplos de código novamente."
   ]
  },
  {
   "cell_type": "markdown",
   "metadata": {},
   "source": [
    "## Acessores do host\n",
    "O acessor de host é aquele que usa o destino de acesso do _buffer_ do host. Ele é criado fora do escopo do grupo de comando e os dados aos quais ele dá acesso estarão disponíveis no host. Eles são usados para sincronizar os dados de volta ao host, construindo os objetos de acesso do host. A destruição do _buffer_ é a outra maneira de sincronizar os dados de volta ao host."
   ]
  },
  {
   "cell_type": "markdown",
   "metadata": {},
   "source": [
    "## Sincronização: Host Accessor\n",
    "\n",
    "O buffer assume a propriedade dos dados armazenados no vetor. A criação do acessor de host é uma chamada __blocante__ e só retornará depois que todos os _kernels_ SYCL enfileirados que modificam o mesmo _buffer_ em qualquer fila concluam a execução e os dados estejam disponíveis para o host por meio desse acessor de host.\n",
    "\n",
    "O código SYCL abaixo demonstra a sincronização com o acessor de host: inspecione o código, não há modificações necessárias:\n",
    "\n",
    "1. Inspecione a célula de código abaixo e clique em executar ▶ para salvar o código no arquivo\n",
    "\n",
    "2. Em seguida, execute ▶ a célula na seção __Build and Run__ abaixo do código para compilar e executar o código."
   ]
  },
  {
   "cell_type": "code",
   "execution_count": null,
   "metadata": {},
   "outputs": [],
   "source": [
    "%%writefile lab/host_accessor_sample.cpp\n",
    "//==============================================================\n",
    "// Copyright © 2020 Intel Corporation\n",
    "//\n",
    "// SPDX-License-Identifier: MIT\n",
    "// =============================================================\n",
    "\n",
    "#include <CL/sycl.hpp>\n",
    "using namespace sycl;\n",
    "\n",
    "int main() {\n",
    "    constexpr int N = 16;\n",
    "    auto R = range<1>(N);\n",
    "    std::vector<double> v(N, 10);\n",
    "    queue q;\n",
    "    // O buffer assume a propriedade dos dados armazenados no vetor\n",
    "    buffer<double, 1> buf(v.data(), R);\n",
    "    q.submit([&](handler& h) {\n",
    "        auto a = buf.get_access<access::mode::read_write>(h);\n",
    "        h.parallel_for(R, [=](id<1> i) { a[i] -= 2; });\n",
    "    });\n",
    "    // A criação do acessor de host é uma chamada blocante e só retornará depois que \n",
    "    // todos os kernels syCL enfileirados que modificam o mesmo buffer em qualquer fila \n",
    "    // concluírem a execução e os dados estiverem disponíveis para o host.\n",
    "    auto b = buf.get_access<access::mode::read>();\n",
    "    for (int i = 0; i < N; i++) \n",
    "        std::cout << v[i] << \"\\n\";\n",
    "    return 0;\n",
    "}"
   ]
  },
  {
   "cell_type": "markdown",
   "metadata": {},
   "source": [
    "### Compilar e Executar\n",
    "Selecione a célula abaixo e clique em executar ▶ para compilar e executar o código:"
   ]
  },
  {
   "cell_type": "code",
   "execution_count": null,
   "metadata": {},
   "outputs": [],
   "source": [
    "! dpcpp lab/host_accessor_sample.cpp -o bin/host_accessor_sample\n",
    "! bin/host_accessor_sample"
   ]
  },
  {
   "cell_type": "markdown",
   "metadata": {},
   "source": [
    "Se as células do Jupyter não responderem ou se apresentarem um erro ao compilar os exemplos de código, reinicie o kernel do Jupyter. Selecione o seguinte item de menu na janela Jupyter: `Kernel > Restart Kernel and Clear All Outputs` e compile os exemplos de código novamente."
   ]
  },
  {
   "cell_type": "markdown",
   "metadata": {},
   "source": [
    "## Sincronização: Destruição do _buffer_\n",
    "No exemplo abaixo, a criação do _buffer_ ocorre dentro de um escopo de função separado. Quando a execução avança além desse __escopo de função__, o destruidor de _buffer_ é invocado, cedendo a propriedade dos dados e copiando os dados de volta para a memória do host.\n",
    "\n",
    "O código SYCL abaixo demonstra a sincronização com a destruição do buffer: inspecione o código, não há modificações necessárias:\n",
    "\n",
    "1. Inspecione a célula de código abaixo e clique em executar ▶ para salvar o código em um arquivo.\n",
    "\n",
    "2. Em seguida, execute ▶ a célula na seção __Build and Run__ abaixo do código para compilar e executar o código."
   ]
  },
  {
   "cell_type": "code",
   "execution_count": null,
   "metadata": {},
   "outputs": [],
   "source": [
    "%%writefile lab/buffer_destruction2.cpp\n",
    "//==============================================================\n",
    "// Copyright © 2020 Intel Corporation\n",
    "//\n",
    "// SPDX-License-Identifier: MIT\n",
    "// =============================================================\n",
    "\n",
    "#include <CL/sycl.hpp>\n",
    "constexpr int N = 16;\n",
    "using namespace sycl;\n",
    "\n",
    "// A criação do buffer ocorre dentro de um escopo de função separado.\n",
    "void dpcpp_code(std::vector<double> &v, queue &q) {\n",
    "    auto R = range<1>(N);\n",
    "    buffer<double, 1> buf(v.data(), R);\n",
    "    q.submit([&](handler &h) {\n",
    "    auto a = buf.get_access<access::mode::read_write>(h);\n",
    "        h.parallel_for(R, [=](id<1> i) { a[i] -= 2; });\n",
    "    });\n",
    "}\n",
    "int main() {\n",
    "    std::vector<double> v(N, 10);\n",
    "    queue q;\n",
    "    dpcpp_code(v, q);\n",
    "    // Quando a execução avança além desse escopo de função, \n",
    "    // o destruidor de buffer é invocado, cedendo a propriedade\n",
    "    // dos dados e os copia de volta para a memória do host.\n",
    "    for (int i = 0; i < N; i++) \n",
    "        std::cout << v[i] << \"\\n\";\n",
    "    return 0;\n",
    "}"
   ]
  },
  {
   "cell_type": "markdown",
   "metadata": {},
   "source": [
    "### Compilar e Executar\n",
    "Selecione a célula abaixo e clique em executar ▶ para compilar e executar o código:"
   ]
  },
  {
   "cell_type": "code",
   "execution_count": null,
   "metadata": {},
   "outputs": [],
   "source": [
    "! dpcpp lab/buffer_destruction2.cpp -o bin/buffer_destruction2\n",
    "! bin/buffer_destruction2"
   ]
  },
  {
   "cell_type": "markdown",
   "metadata": {},
   "source": [
    "Se as células do Jupyter não responderem ou se apresentarem um erro ao compilar os exemplos de código, reinicie o kernel do Jupyter. Selecione o seguinte item de menu na janela Jupyter: `Kernel > Restart Kernel and Clear All Outputs` e compile os exemplos de código novamente."
   ]
  },
  {
   "cell_type": "markdown",
   "metadata": {},
   "source": [
    "## Seletor de dispositivo personalizado\n",
    "O código a seguir mostra um `device_selector` que emprega uma heurística de seletor de dispositivo. O dispositivo selecionado prioriza um dispositivo GPU porque a classificação de número inteiro retornada é mais alta do que para CPU ou outro acelerador.\n",
    "\n",
    "O código SYCL abaixo demonstra o seletor de dispositivo personalizado: Inspecione o código, não há modificações necessárias:\n",
    "\n",
    "1. Inspecione a célula de código abaixo e clique em executar ▶ para salvar o código em um arquivo.\n",
    "\n",
    "2. Em seguida, execute ▶ a célula na seção __Build and Run__ abaixo do código para compilar e executar o código."
   ]
  },
  {
   "cell_type": "code",
   "execution_count": null,
   "metadata": {},
   "outputs": [],
   "source": [
    "%%writefile lab/custom_device_sample.cpp\n",
    "//==============================================================\n",
    "// Copyright © 2020 Intel Corporation\n",
    "//\n",
    "// SPDX-License-Identifier: MIT\n",
    "// =============================================================\n",
    "#include <CL/sycl.hpp>\n",
    "#include <iostream>\n",
    "using namespace sycl;\n",
    "class my_device_selector : public device_selector {\n",
    "public:\n",
    "    my_device_selector(std::string vendorName) : vendorName_(vendorName){};\n",
    "    int operator()(const device& dev) const override {\n",
    "    int rating = 0;\n",
    "    //Estamos pesquisando o dispositivo personalizado específico de um fornecedor e, \n",
    "    //se for um dispositivo GPU, estamos dando a classificação mais alta, 3. \n",
    "    //A segunda preferência é dada a qualquer dispositivo GPU \n",
    "    //e a terceira preferência é dada a dispositivo CPU.\n",
    "    if (dev.is_gpu() & (dev.get_info<info::device::name>().find(vendorName_) != std::string::npos))\n",
    "        rating = 3;\n",
    "    else if (dev.is_gpu()) rating = 2;\n",
    "    else if (dev.is_cpu()) rating = 1;\n",
    "    return rating;\n",
    "    };\n",
    "    \n",
    "private:\n",
    "    std::string vendorName_;\n",
    "};\n",
    "int main() {\n",
    "    //passe o nome do fornecedor para o qual o dispositivo que você deseja consultar\n",
    "    std::string vendor_name = \"Intel\";\n",
    "    //std::string vendor_name = \"AMD\";\n",
    "    //std::string vendor_name = \"Nvidia\";\n",
    "    my_device_selector selector(vendor_name);\n",
    "    queue q(selector);\n",
    "    std::cout << \"Device: \"\n",
    "    << q.get_device().get_info<info::device::name>() << std::endl;\n",
    "    return 0;\n",
    "}"
   ]
  },
  {
   "cell_type": "markdown",
   "metadata": {},
   "source": [
    "### Compilar e Executar\n",
    "Selecione a célula abaixo e clique em executar ▶ para compilar e executar o código:\n",
    "\n",
    "(Uma vez que é codificado para preferir uma GPU, os scripts são necessários para executar em um nó com uma GPU.)"
   ]
  },
  {
   "cell_type": "code",
   "execution_count": null,
   "metadata": {},
   "outputs": [],
   "source": [
    "! chmod 755 q; chmod 755 run_custom_device.sh;if [ -x \"$(command -v qsub)\" ]; then ./q run_custom_device.sh; else ./run_custom_device.sh; fi"
   ]
  },
  {
   "cell_type": "markdown",
   "metadata": {},
   "source": [
    "Se as células do Jupyter não responderem ou se apresentarem um erro ao compilar os exemplos de código, reinicie o kernel do Jupyter. Selecione o seguinte item de menu na janela Jupyter: `Kernel->Restart Kernel and Clear All Outputs` e compile os exemplos de código novamente."
   ]
  },
  {
   "cell_type": "markdown",
   "metadata": {},
   "source": [
    "# Exercício: multiplicação de números complexos\n",
    "A seguir está a definição de um tipo de classe personalizada que representa números complexos.\n",
    "* O arquivo [Complex.hpp](./src/Complex.hpp) define a classe `Complex2`.\n",
    "* A classe `Complex2` tem duas variáveis de membro \"real\" e \"imag\" do tipo int.\n",
    "* A classe `Complex2` tem uma função-membro para realizar a multiplicação de números complexos. A função `complex_mul` retorna o objeto do tipo `Complex2` realizando a multiplicação de dois números complexos.\n",
    "* Vamos chamar a função `complex_mul` de nosso código SYCL."
   ]
  },
  {
   "cell_type": "markdown",
   "metadata": {},
   "source": [
    "## EXERCÍCIO\n",
    "* Neste laboratório, fornecemos o código-fonte que calcula a multiplicação de dois números complexos, onde a classe `Complex2` é a definição de um tipo personalizado que representa números complexos.\n",
    "* Neste exemplo, o aluno aprenderá como usar o seletor de dispositivo personalizado para direcionar a GPU ou CPU de um fornecedor específico e, em seguida, passar um vetor de objetos de classe complexos personalizados em paralelo. O aluno precisa modificar o código-fonte para selecionar GPU Intel® como a primeira escolha e, em seguida, configure um acessor de gravação e chame a função de membro da classe `Complex2` como kernel para calcular a multiplicação.\n",
    "* Siga a __Etapa 1 e a Etapa 2 e a Etapa 3 no código abaixo__.\n",
    "* A classe `Complex2` no exemplo abaixo é para demonstrar o uso de uma classe customizada e como uma classe customizada pode ser passada em um código SYCL, mas não para mostrar a funcionalidade da classe complexa na biblioteca `std`. Você pode usar a própria biblioteca `std::complex` em um programa SYCL.\n",
    "\n",
    "1. Selecione a célula de código abaixo, __siga as Etapas 1 a 3__ nos comentários do código, clique em executar ▶ para salvar o código em arquivo.\n",
    "2. Em seguida, execute ▶ a célula na seção __Build and Run__ abaixo do código para compilar e executar o código."
   ]
  },
  {
   "cell_type": "code",
   "execution_count": null,
   "metadata": {},
   "outputs": [],
   "source": [
    "%%writefile lab/complex_mult.cpp\n",
    "\n",
    "//==============================================================\n",
    "// Copyright © 2020 Intel Corporation\n",
    "//\n",
    "// SPDX-License-Identifier: MIT\n",
    "// =============================================================\n",
    "#include <CL/sycl.hpp>\n",
    "#include <iomanip>\n",
    "#include <vector>\n",
    "#include \"Complex.hpp\"\n",
    "\n",
    "using namespace sycl;\n",
    "using namespace std;\n",
    "\n",
    "// Quantidade de números complexos passando para o código SYCL\n",
    "static const int num_elements = 100;\n",
    "\n",
    "class custom_device_selector : public device_selector {\n",
    "public:\n",
    "    custom_device_selector(std::string vendorName) : vendorName_(vendorName){};\n",
    "    int operator()(const device& dev) const override {\n",
    "    int rating = 0;    \n",
    "    //Estamos pesquisando o dispositivo personalizado específico de um fornecedor e, \n",
    "    //se for um dispositivo GPU, estamos dando a classificação mais alta, 3. \n",
    "    //A segunda preferência é dada a qualquer dispositivo GPU e \n",
    "    //a terceira preferência é dada a dispositivo CPU.\n",
    "    //**************Etapa 1: Remova o comentário das seguintes linhas, onde você está definindo a classificação dos dispositivos********\n",
    "    /*if (dev.is_gpu() & (dev.get_info<info::device::name>().find(vendorName_) != std::string::npos))\n",
    "        rating = 3;\n",
    "    else if (dev.is_gpu()) rating = 2;\n",
    "    else if (dev.is_cpu()) rating = 1; */\n",
    "    return rating;\n",
    "    };\n",
    "    \n",
    "private:\n",
    "    std::string vendorName_;\n",
    "};\n",
    "\n",
    "// in_vect1 e in_vect2 são os vetores com num_elements, números complexos \n",
    "// e são entradas para a função paralela\n",
    "void DpcppParallel(queue &q, std::vector<Complex2> &in_vect1,\n",
    "                   std::vector<Complex2> &in_vect2, std::vector<Complex2> &out_vect) {\n",
    "  // Configurar buffers de entrada\n",
    "  buffer<Complex2, 1> bufin_vect1(in_vect1.data(), range<1>(num_elements));\n",
    "  buffer<Complex2, 1> bufin_vect2(in_vect2.data(), range<1>(num_elements));\n",
    "\n",
    "  // Configurar buffers de saída\n",
    "  buffer<Complex2, 1> bufout_vect(out_vect.data(), range<1>(num_elements));\n",
    "\n",
    "  std::cout << \"Target Device: \"\n",
    "            << q.get_device().get_info<info::device::name>() <<\"\\n\";\n",
    "  // Enviar objeto de função do grupo Comando para a fila\n",
    "  q.submit([&](handler &h) {\n",
    "    // Acessores configurados em modo leitura\n",
    "    auto V1 = bufin_vect1.get_access<access::mode::read>(h);\n",
    "    auto V2 = bufin_vect2.get_access<access::mode::read>(h);\n",
    "    // Acessor configurado em modo escrita\n",
    "    //**************Etapa 2: Remova o comentário da linha abaixo para definir o acessor de escrita********************      \n",
    "    //auto V3 = bufout_vect.get_access<access::mode::write>(h); \n",
    "      \n",
    "    h.parallel_for(range<1>(num_elements), [=](id<1> i) {      \n",
    "    //**************Etapa 3: Remova o comentário da linha abaixo para chamar a função complex_mul \n",
    "    //que calcula a multiplicação dos números complexos********************\n",
    "        \n",
    "    //V3[i] = V1[i].complex_mul(V2[i]); \n",
    "    });\n",
    "  });\n",
    "  q.wait_and_throw();\n",
    "}\n",
    "void DpcppScalar(std::vector<Complex2> &in_vect1, std::vector<Complex2> &in_vect2,\n",
    "                 std::vector<Complex2> &out_vect) {\n",
    "  for (int i = 0; i < num_elements; i++) {\n",
    "    out_vect[i] = in_vect1[i].complex_mul(in_vect2[i]);\n",
    "  }\n",
    "}\n",
    "//Compare os resultados dos dois vetores de saída de paralelo e escalar. Eles devem ser iguais\n",
    "int Compare(std::vector<Complex2> &v1, std::vector<Complex2> &v2) {\n",
    "  int ret_code = 1;\n",
    "  for (int i = 0; i < num_elements; i++) {\n",
    "    if (v1[i] != v2[i]) {\n",
    "      ret_code = -1;\n",
    "      break;\n",
    "    }\n",
    "  }\n",
    "  return ret_code;\n",
    "}\n",
    "int main() {\n",
    "  // Declare seus vetores de entrada e saída da classe Complex2\n",
    "  vector<Complex2> input_vect1;\n",
    "  vector<Complex2> input_vect2;\n",
    "  vector<Complex2> out_vect_parallel;\n",
    "  vector<Complex2> out_vect_scalar; \n",
    "  \n",
    "\n",
    "  for (int i = 0; i < num_elements; i++) {\n",
    "    input_vect1.push_back(Complex2(i + 2, i + 4));\n",
    "    input_vect2.push_back(Complex2(i + 4, i + 6));\n",
    "    out_vect_parallel.push_back(Complex2(0, 0));\n",
    "    out_vect_scalar.push_back(Complex2(0, 0));\n",
    "  }\n",
    "\n",
    "  // este manipulador de exceção captura exceções assíncronas\n",
    "  auto exception_handler = [&](cl::sycl::exception_list eList) {\n",
    "    for (std::exception_ptr const &e : eList) {\n",
    "      try {\n",
    "        std::rethrow_exception(e);\n",
    "      } catch (cl::sycl::exception const &e) {\n",
    "        std::cout << \"Failure\" << std::endl;\n",
    "        std::terminate();\n",
    "      }\n",
    "    }\n",
    "  };\n",
    "\n",
    "  // Inicialize seus vetores de entrada e saída. As entradas são inicializadas conforme abaixo.\n",
    "  // As saídas são inicializadas com 0\n",
    "  try {\n",
    "    //Passe o nome do fornecedor para o qual o dispositivo que você deseja consultar\n",
    "    std::string vendor_name = \"Intel\";\n",
    "    //std::string vendor_name = \"AMD\";\n",
    "    //std::string vendor_name = \"Nvidia\";\n",
    "    // queue constructor passed exception handler\n",
    "    custom_device_selector selector(vendor_name);\n",
    "    queue q(selector, exception_handler);     \n",
    "    // Chame DpcppParallel com as entradas e saídas necessárias\n",
    "    DpcppParallel(q, input_vect1, input_vect2, out_vect_parallel);\n",
    "  } catch (...) {\n",
    "    // alguma outra exceção detectada\n",
    "    std::cout << \"Failure\" << std::endl;\n",
    "    std::terminate();\n",
    "  }\n",
    "\n",
    "  cout << \"****************************************Multiplying Complex numbers \"\n",
    "          \"in Parallel********************************************************\"\n",
    "       << std::endl;\n",
    "  // Imprima as saídas da função Paralela\n",
    "  for (int i = 0; i < num_elements; i++) {\n",
    "    cout << out_vect_parallel[i] << ' ';\n",
    "    if (i == num_elements - 1) {\n",
    "      cout << \"\\n\\n\";\n",
    "    }\n",
    "  }\n",
    "  cout << \"****************************************Multiplying Complex numbers \"\n",
    "          \"in Serial***********************************************************\"\n",
    "       << std::endl;\n",
    "  // Chame a função DpcppScalar com as entradas e saídas necessárias\n",
    "  DpcppScalar(input_vect1, input_vect2, out_vect_scalar);\n",
    "  for (auto it = out_vect_scalar.begin(); it != out_vect_scalar.end(); it++) {\n",
    "    cout << *it << ' ';\n",
    "    if (it == out_vect_scalar.end() - 1) {\n",
    "      cout << \"\\n\\n\";\n",
    "    }\n",
    "  }\n",
    "\n",
    "  // Compare as saídas das funções paralela e escalar. Eles deveriam ser iguais\n",
    "  int ret_code = Compare(out_vect_parallel, out_vect_scalar);\n",
    "  if (ret_code == 1) {\n",
    "    cout << \"********************************************Success. Results are \"\n",
    "            \"matched******************************\"\n",
    "         << \"\\n\";\n",
    "  } else\n",
    "    cout << \"*********************************************Failed. Results are \"\n",
    "            \"not matched**************************\"\n",
    "         << \"\\n\";\n",
    "\n",
    "  return 0;\n",
    "}"
   ]
  },
  {
   "cell_type": "markdown",
   "metadata": {},
   "source": [
    "### Compilar e Executar\n",
    "Selecione a célula abaixo e clique em executar ▶ para compilar e executar o código:\n",
    "\n",
    "(Uma vez que é codificado para preferir uma GPU, os scripts são necessários para executar em um nó com uma GPU.)"
   ]
  },
  {
   "cell_type": "code",
   "execution_count": null,
   "metadata": {},
   "outputs": [],
   "source": [
    "! chmod 755 q; chmod 755 run_complex_mult.sh;if [ -x \"$(command -v qsub)\" ]; then ./q run_complex_mult.sh; else ./run_complex_mult.sh; fi"
   ]
  },
  {
   "cell_type": "markdown",
   "metadata": {},
   "source": [
    "Se as células do Jupyter não responderem ou se apresentarem um erro ao compilar os exemplos de código, reinicie o kernel do Jupyter. Selecione o seguinte item de menu na janela Jupyter: `Kernel > Restart Kernel and Clear All Outputs` e compile os exemplos de código novamente."
   ]
  },
  {
   "cell_type": "markdown",
   "metadata": {},
   "source": [
    "#### Solução\n",
    "- [complex_mult_solution.cpp](src/complex_mult_solution.cpp)"
   ]
  },
  {
   "cell_type": "markdown",
   "metadata": {},
   "source": [
    "***\n",
    "# Resumo\n",
    "\n",
    "Neste módulo você aprendeu:\n",
    "* As classes SYCL fundamentais\n",
    "* Como selecionar o dispositivo para descarregar nas cargas de trabalho do kernel\n",
    "* Como escrever um programa SYCL usando _buffers_, acessores, manipulador de grupo de comando e _kernel_\n",
    "* Como usar os acessores de host e destruição de _buffer_ para fazer a sincronização"
   ]
  }
 ],
 "metadata": {
  "kernelspec": {
   "display_name": "Python 3.7 (Intel® oneAPI)",
   "language": "python",
   "name": "c009-intel_distribution_of_python_3_oneapi-beta05-python"
  },
  "language_info": {
   "codemirror_mode": {
    "name": "ipython",
    "version": 3
   },
   "file_extension": ".py",
   "mimetype": "text/x-python",
   "name": "python",
   "nbconvert_exporter": "python",
   "pygments_lexer": "ipython3",
   "version": "3.7.7"
  },
  "toc": {
   "base_numbering": 1,
   "nav_menu": {},
   "number_sections": true,
   "sideBar": true,
   "skip_h1_title": false,
   "title_cell": "Table of Contents",
   "title_sidebar": "Contents",
   "toc_cell": false,
   "toc_position": {
    "height": "525.6px",
    "left": "28px",
    "top": "137.8px",
    "width": "301.09px"
   },
   "toc_section_display": true,
   "toc_window_display": true
  }
 },
 "nbformat": 4,
 "nbformat_minor": 4
}
